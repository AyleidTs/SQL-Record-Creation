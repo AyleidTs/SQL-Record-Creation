{
 "cells": [
  {
   "cell_type": "code",
   "execution_count": 1,
   "metadata": {},
   "outputs": [],
   "source": [
    "def datacreation(name,tables,data):\n",
    "    import csv\n",
    "    with open(name+'.csv',mode='w',newline='') as data_file:\n",
    "        data_fileW= csv.writer(data_file,delimiter=',')\n",
    "        data_fileW.writerow(tables)\n",
    "        for i in range(len(data)):\n",
    "            data_fileW.writerow(data[i])"
   ]
  },
  {
   "cell_type": "code",
   "execution_count": 44,
   "metadata": {},
   "outputs": [],
   "source": [
    "def sqlcode(name,rows):\n",
    "    file1 = open(name+\".txt\",'w')\n",
    "    for i in range(len(rows)):\n",
    "        if (i+1) == len(rows) :\n",
    "            file1.write('INSERT INTO '+name+' VALUES (')\n",
    "            for j in range(len(rows[i])):\n",
    "                file1.write(str(rows[i][j]))\n",
    "                if j+1 != len(rows[j]) :\n",
    "                    file1.write(',')\n",
    "            file1.write(');')\n",
    "        else :\n",
    "            file1.write('INSERT INTO '+name+' VALUES (')\n",
    "            for j in range(len(rows[i])):\n",
    "                file1.write(str(rows[i][j]))\n",
    "                if j+1 != len(rows[j]) :\n",
    "                    file1.write(',')\n",
    "            file1.write('),\\n')\n",
    "    file1.close()"
   ]
  },
  {
   "cell_type": "code",
   "execution_count": 68,
   "metadata": {},
   "outputs": [],
   "source": [
    "import random\n",
    "\n",
    "def phn():\n",
    "    n = '0000000000'\n",
    "    while '9' in n[3:6] or n[3:6]=='000' or n[6]==n[7]==n[8]==n[9]:\n",
    "        n = str(random.randint(10**9, 10**10-1))\n",
    "    return n\n",
    "    #return n[:3] + '-' + n[3:6] + '-' + n[6:]\n",
    "\n",
    "def collectors(n):\n",
    "    import datetime\n",
    "    import re\n",
    "    from faker import Faker\n",
    "    fake=Faker()\n",
    "    adre=[]\n",
    "    for i in range(n):\n",
    "        while True:\n",
    "            try:\n",
    "                fname=fake.first_name()\n",
    "                lname=fake.last_name()\n",
    "                f=fake.address()\n",
    "                if re.findall('[Bb]ox',f) != []:\n",
    "                    continue\n",
    "                road=f[:f.index('\\n')]\n",
    "                city=f[(f.index('\\n')+1):f.index(',')]\n",
    "                state=f[(f.index(',')+2):(f.index(',')+4)]\n",
    "                zipcode=f[(f.index(',')+5):]\n",
    "                ssn=re.sub('-', '', fake.ssn())\n",
    "                dob=fake.date_of_birth(tzinfo=None, minimum_age=18, maximum_age=65)\n",
    "                phone=phn()\n",
    "                lic_No=random.randint(100000000,999999999)\n",
    "                listA=[fname,lname,road,city,state,zipcode,ssn,dob,phone,lic_No]\n",
    "                adre.append(listA)\n",
    "                break\n",
    "            except:\n",
    "                continue\n",
    "    return adre"
   ]
  },
  {
   "cell_type": "code",
   "execution_count": 66,
   "metadata": {},
   "outputs": [],
   "source": [
    "import random\n",
    "\n",
    "def phn():\n",
    "    n = '0000000000'\n",
    "    while '9' in n[3:6] or n[3:6]=='000' or n[6]==n[7]==n[8]==n[9]:\n",
    "        n = str(random.randint(10**9, 10**10-1))\n",
    "    return n\n",
    "    #return n[:3] + '-' + n[3:6] + '-' + n[6:]\n",
    "\n",
    "def donors(n):\n",
    "    import datetime\n",
    "    import re\n",
    "    from faker import Faker\n",
    "    fake=Faker()\n",
    "    adre=[]\n",
    "    for i in range(n):\n",
    "        while True:\n",
    "            try:\n",
    "                fname=fake.first_name()\n",
    "                lname=fake.last_name()\n",
    "                f=fake.address()\n",
    "                if re.findall('[Bb]ox',f) != []:\n",
    "                    continue\n",
    "                road=f[:f.index('\\n')]\n",
    "                city=f[(f.index('\\n')+1):f.index(',')]\n",
    "                state=f[(f.index(',')+2):(f.index(',')+4)]\n",
    "                zipcode=f[(f.index(',')+5):]\n",
    "                ssn=re.sub('-', '', fake.ssn())\n",
    "                dob=fake.date_of_birth(tzinfo=None, minimum_age=18, maximum_age=65)\n",
    "                phone=phn()\n",
    "                last_donation=fake.date_time_between(start_date='-5y', end_date='now', tzinfo=None)\n",
    "                listA=[fname,lname,road,city,state,zipcode,ssn,dob,phone,last_donation]\n",
    "                adre.append(listA)\n",
    "                break\n",
    "            except:\n",
    "                continue\n",
    "    return adre"
   ]
  },
  {
   "cell_type": "code",
   "execution_count": 63,
   "metadata": {},
   "outputs": [],
   "source": [
    "def questions(n):\n",
    "    import random\n",
    "    healthQ=[]\n",
    "    illness=['STI','AIDS','Tattoo','Piercing','Africa','CoronaArea','Quarantine','Sick','Flu']\n",
    "    for i in range(n):\n",
    "        h=random.choices(illness,k=random.randint(0,3))\n",
    "        hlt=[0,0,0,0,0,0,0,0,0]\n",
    "        for v in range(len(h)):\n",
    "            ind=illness.index(h[v])\n",
    "            hlt[ind]=1\n",
    "        healthQ.append(hlt)\n",
    "    return healthQ\n",
    "        "
   ]
  },
  {
   "cell_type": "code",
   "execution_count": 74,
   "metadata": {},
   "outputs": [],
   "source": [
    "def donationsite(n):\n",
    "    from faker import Faker\n",
    "    fake=Faker()\n",
    "    site=[]\n",
    "    for i in range(n):\n",
    "        while True:\n",
    "            try:\n",
    "                f=fake.address()\n",
    "                if re.findall('[Bb]ox',f) != []:\n",
    "                    continue\n",
    "                road=f[:f.index('\\n')]\n",
    "                city=f[(f.index('\\n')+1):f.index(',')]\n",
    "                state=f[(f.index(',')+2):(f.index(',')+4)]\n",
    "                zipcode=f[(f.index(',')+5):]\n",
    "                listA=[road,city,state,zipcode]\n",
    "                site.append(listA)\n",
    "                break\n",
    "            except:\n",
    "                continue\n",
    "    return site"
   ]
  },
  {
   "cell_type": "code",
   "execution_count": 76,
   "metadata": {},
   "outputs": [],
   "source": [
    "def branch(n):\n",
    "    from faker import Faker\n",
    "    fake=Faker()\n",
    "    site=[]\n",
    "    for i in range(n):\n",
    "        while True:\n",
    "            try:\n",
    "                f=fake.address()\n",
    "                if re.findall('[Bb]ox',f) != []:\n",
    "                    continue\n",
    "                road=f[:f.index('\\n')]\n",
    "                city=f[(f.index('\\n')+1):f.index(',')]\n",
    "                state=f[(f.index(',')+2):(f.index(',')+4)]\n",
    "                zipcode=f[(f.index(',')+5):]\n",
    "                branchname='Bloodbranch of '+city\n",
    "                manager=fake.first_name()+' '+fake.last_name()\n",
    "                listA=[road,city,state,zipcode,branchname,manager]\n",
    "                site.append(listA)\n",
    "                break\n",
    "            except:\n",
    "                continue\n",
    "    return site"
   ]
  },
  {
   "cell_type": "code",
   "execution_count": 85,
   "metadata": {},
   "outputs": [],
   "source": [
    "def labresult(n):\n",
    "    import numpy as np\n",
    "    import random\n",
    "    results=[]\n",
    "    reasons=['Anaemic','Antibiotics','AIDS','Blood Thinner','Cancer','Flu','Creutzfeldt-Jakob','STD','Zika Virus','Smoker','Diabetic','Sepsis','Infection','Inflammation','Bacteria']\n",
    "    bltypes=['A','B','O','AB']\n",
    "    for i in range(n):\n",
    "        infected=np.random.choice([0,1],p=[4./5,1./5])\n",
    "        if infected != 0 :\n",
    "            infectedReason = random.choice(reasons)\n",
    "            sampRejReason = np.random.choice(['Infected','Unsuitable'],p=[4./5,1./5])\n",
    "        else:\n",
    "            infectedReason = 'None'\n",
    "            sampRejReason = np.random.choice(['None','Unsuitable'],p=[9./10,1./10])\n",
    "        bltype= random.choice(bltypes)\n",
    "        rh=random.choice(['+','-'])\n",
    "        sampValid=infected\n",
    "        rsn=[infected,infectedReason,bltype,rh,sampValid,sampRejReason]\n",
    "        results.append(rsn)\n",
    "    return results\n",
    "    "
   ]
  },
  {
   "cell_type": "code",
   "execution_count": 84,
   "metadata": {},
   "outputs": [
    {
     "data": {
      "text/plain": [
       "1"
      ]
     },
     "execution_count": 84,
     "metadata": {},
     "output_type": "execute_result"
    }
   ],
   "source": [
    "def donationblood(n):\n",
    "    "
   ]
  },
  {
   "cell_type": "code",
   "execution_count": 31,
   "metadata": {},
   "outputs": [],
   "source": [
    "illnesstable=['STI','AIDS','Tattoo','Piercing','Africa','CoronaArea','Quarantine','Sick','Flu']\n",
    "donortable=['First_Name','Last_Name','Address','City','State','Zipcode','SSN','DoB','Phone_Number','Last_donation']\n",
    "collectortable=['First_Name','Last_Name','Address','City','State','Zipcode','SSN','DoB','Phone_Number','Lic_No']\n",
    "addresstable=['Address','City','State','Zipcode']\n",
    "branchtable=['Address','City','State','Zipcode','BranchName','BrandManager']\n",
    "labResult=['Infected','InfectedReason','BloodType','Rhesus','SampleValidity','RejectionReason']"
   ]
  },
  {
   "cell_type": "code",
   "execution_count": 67,
   "metadata": {},
   "outputs": [],
   "source": [
    "sd=donors(10)\n",
    "tablename=\"donortest\"\n",
    "sqlcode(tablename,sd)\n",
    "datacreation(tablename,title,sd)"
   ]
  },
  {
   "cell_type": "code",
   "execution_count": 12,
   "metadata": {},
   "outputs": [],
   "source": [
    "from faker import Faker\n",
    "fake=Faker()\n",
    "l=fake.ssn()"
   ]
  },
  {
   "cell_type": "code",
   "execution_count": 16,
   "metadata": {},
   "outputs": [
    {
     "data": {
      "text/plain": [
       "'123758428'"
      ]
     },
     "execution_count": 16,
     "metadata": {},
     "output_type": "execute_result"
    }
   ],
   "source": [
    "import re\n",
    "re.sub('-', '', l)"
   ]
  },
  {
   "cell_type": "code",
   "execution_count": 9,
   "metadata": {},
   "outputs": [],
   "source": [
    "import pandas as pd\n",
    "fd=pd.read_csv('donors.csv')"
   ]
  },
  {
   "cell_type": "code",
   "execution_count": 10,
   "metadata": {
    "scrolled": true
   },
   "outputs": [
    {
     "data": {
      "text/plain": [
       "(1000, 10)"
      ]
     },
     "execution_count": 10,
     "metadata": {},
     "output_type": "execute_result"
    }
   ],
   "source": [
    "fd.shape"
   ]
  },
  {
   "cell_type": "code",
   "execution_count": 11,
   "metadata": {},
   "outputs": [],
   "source": [
    "s=fd.columns"
   ]
  },
  {
   "cell_type": "code",
   "execution_count": 12,
   "metadata": {},
   "outputs": [],
   "source": [
    "s=list(s)"
   ]
  },
  {
   "cell_type": "code",
   "execution_count": 25,
   "metadata": {},
   "outputs": [],
   "source": [
    "fd['Last_donation']=pd.to_datetime(fd['Last_donation'],format='%Y-%m-%d %H:%M:%S')"
   ]
  },
  {
   "cell_type": "code",
   "execution_count": 26,
   "metadata": {},
   "outputs": [
    {
     "data": {
      "text/plain": [
       "First_Name               object\n",
       "Last_Name                object\n",
       "Address                  object\n",
       "City                     object\n",
       "State                    object\n",
       "Zipcode                   int64\n",
       "SSN                       int64\n",
       "DoB                      object\n",
       "Phone_Number              int64\n",
       "Last_donation    datetime64[ns]\n",
       "dtype: object"
      ]
     },
     "execution_count": 26,
     "metadata": {},
     "output_type": "execute_result"
    }
   ],
   "source": [
    "fd.dtypes"
   ]
  },
  {
   "cell_type": "code",
   "execution_count": 13,
   "metadata": {
    "scrolled": true
   },
   "outputs": [
    {
     "data": {
      "text/plain": [
       "['First_Name',\n",
       " 'Last_Name',\n",
       " 'Address',\n",
       " 'City',\n",
       " 'State',\n",
       " 'Zipcode',\n",
       " 'SSN',\n",
       " 'DoB',\n",
       " 'Phone_Number',\n",
       " 'Last_donation']"
      ]
     },
     "execution_count": 13,
     "metadata": {},
     "output_type": "execute_result"
    }
   ],
   "source": [
    "s"
   ]
  },
  {
   "cell_type": "code",
   "execution_count": 27,
   "metadata": {},
   "outputs": [
    {
     "data": {
      "text/plain": [
       "0     2020-08-03 06:02:35\n",
       "1     2018-06-14 02:59:48\n",
       "2     2018-03-19 10:23:25\n",
       "3     2016-05-10 21:18:06\n",
       "4     2019-01-22 23:49:08\n",
       "              ...        \n",
       "995   2018-02-16 10:32:42\n",
       "996   2020-10-30 08:58:06\n",
       "997   2016-05-10 12:39:01\n",
       "998   2020-05-18 15:33:40\n",
       "999   2019-10-22 21:55:41\n",
       "Name: Last_donation, Length: 1000, dtype: datetime64[ns]"
      ]
     },
     "execution_count": 27,
     "metadata": {},
     "output_type": "execute_result"
    }
   ],
   "source": [
    "fd[s[9]][fd[s[9]].isnull()==False]"
   ]
  },
  {
   "cell_type": "code",
   "execution_count": null,
   "metadata": {},
   "outputs": [],
   "source": []
  }
 ],
 "metadata": {
  "kernelspec": {
   "display_name": "Python 3",
   "language": "python",
   "name": "python3"
  },
  "language_info": {
   "codemirror_mode": {
    "name": "ipython",
    "version": 3
   },
   "file_extension": ".py",
   "mimetype": "text/x-python",
   "name": "python",
   "nbconvert_exporter": "python",
   "pygments_lexer": "ipython3",
   "version": "3.7.6"
  }
 },
 "nbformat": 4,
 "nbformat_minor": 4
}
